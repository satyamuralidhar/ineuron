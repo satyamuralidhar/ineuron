        *  
        * *  
        * * *  
        * * * *  
        * * * * *  
        * * * * 
        * * * 
        * *  
        * 
        
        
#2.Create the below pattern using nested for loop in Python.

number = int(input("enter the values: "))
for i in range(1,number+1):
    for j in range(1,i+1):
        print("*",end="")
    print()
for k in range(number-2,-1,-1):
    for m in range(k,-1,-1):
        print("*",end="")
    print()
        
