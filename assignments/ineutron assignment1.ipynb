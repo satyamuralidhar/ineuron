{
 "cells": [
  {
   "cell_type": "code",
   "execution_count": null,
   "metadata": {},
   "outputs": [],
   "source": [
    "#1.Install Jupyter notebook and run the first program and share the screenshot of the output. \n",
    "name = input('my name is: ')\n",
    "name\n"
   ]
  },
  {
   "cell_type": "code",
   "execution_count": null,
   "metadata": {},
   "outputs": [],
   "source": [
    "#2.Write a program which will find all such numbers which are divisible by 7 but are not a multiple of 5, between 2000 and 3200 (both included). The numbers obtained should be printed in a comma-separated sequence on a single line. \n",
    "for m in range(2000,3201):\n",
    "    if (m%7==0) and (m%5!=0):\n",
    "        print(m , ',' , end='')"
   ]
  },
  {
   "cell_type": "code",
   "execution_count": 24,
   "metadata": {},
   "outputs": [
    {
     "name": "stdin",
     "output_type": "stream",
     "text": [
      "  satyamuralidhar\n",
      "  peddireddi\n"
     ]
    },
    {
     "name": "stdout",
     "output_type": "stream",
     "text": [
      "name: satyamuralidhar peddireddi\n",
      "reverse order idderiddep rahdilarumaytas\n"
     ]
    }
   ],
   "source": [
    "#3.Write a Python program to accept the user's first and last name and then getting them printed in the the reverse order with a space between first name and last name\n",
    "firstname = input(' ')\n",
    "lastname = input(' ')\n",
    "print('name: {} {}'.format(firstname,lastname))\n",
    "print('reverse order ' + (firstname + ' ' + lastname)[::-1])"
   ]
  },
  {
   "cell_type": "code",
   "execution_count": 8,
   "metadata": {},
   "outputs": [],
   "source": [
    "#4.Write a Python program to find the volume of a sphere with diameter 12 cm.  \n",
    "#Formula: V=4/3 * π * r 3 \n",
    "#pi 22/7\n",
    "#diameter 2*r => 12/2 => r = 6\n",
    "#volume of sphere 4*π*(r3/3)\n",
    "import math\n",
    "pi = 22/7\n",
    "r = 6\n",
    "r3 = 6**3\n",
    "volume = (4/3)*(pi * r3)\n",
    "\n"
   ]
  },
  {
   "cell_type": "code",
   "execution_count": 9,
   "metadata": {},
   "outputs": [
    {
     "data": {
      "text/plain": [
       "905.1428571428571"
      ]
     },
     "execution_count": 9,
     "metadata": {},
     "output_type": "execute_result"
    }
   ],
   "source": [
    "volume"
   ]
  },
  {
   "cell_type": "code",
   "execution_count": 56,
   "metadata": {},
   "outputs": [
    {
     "name": "stdin",
     "output_type": "stream",
     "text": [
      "Enter numbers: 167384\n"
     ]
    },
    {
     "data": {
      "text/plain": [
       "[1, 6, 7, 3, 8, 4]"
      ]
     },
     "execution_count": 56,
     "metadata": {},
     "output_type": "execute_result"
    }
   ],
   "source": [
    "#TASK2\n",
    "#1.Write a program which accepts a sequence of comma-separated numbers from console and generate a list. \n",
    "numbers=input('Enter numbers:' ) \n",
    "[int(i) for i in str(numbers)]\n"
   ]
  },
  {
   "cell_type": "code",
   "execution_count": 27,
   "metadata": {},
   "outputs": [
    {
     "name": "stdin",
     "output_type": "stream",
     "text": [
      "enter the values:  10\n"
     ]
    },
    {
     "name": "stdout",
     "output_type": "stream",
     "text": [
      "*\n",
      "**\n",
      "***\n",
      "****\n",
      "*****\n",
      "*****\n",
      "*****\n",
      "*****\n",
      "*****\n",
      "*****\n"
     ]
    }
   ],
   "source": [
    "#2.Create the below pattern using nested for loop in Python.\n",
    "number = int(input(\"enter the values: \"))\n",
    "for i in range(1,number+1):\n",
    "    if i <=5:\n",
    "        for j in range(1,i+1):\n",
    "            print(\"*\" ,end=\"\")\n",
    "    else:\n",
    "        k=6\n",
    "        for l in range(k-1):\n",
    "            #for m in range(1,k-1):\n",
    "    \n",
    "            print(\"*\",end=\"\")\n",
    "    print()\n",
    "        \n",
    "        "
   ]
  },
  {
   "cell_type": "code",
   "execution_count": 55,
   "metadata": {},
   "outputs": [
    {
     "data": {
      "text/plain": [
       "[1, 2, 3, 4, 5]"
      ]
     },
     "execution_count": 55,
     "metadata": {},
     "output_type": "execute_result"
    }
   ],
   "source": [
    "[int(i) for i in str(12345)]"
   ]
  },
  {
   "cell_type": "code",
   "execution_count": 24,
   "metadata": {},
   "outputs": [
    {
     "name": "stdin",
     "output_type": "stream",
     "text": [
      " JMKgomgIk\n"
     ]
    },
    {
     "name": "stdout",
     "output_type": "stream",
     "text": [
      "reverse order: kIgmogKMJ\n"
     ]
    }
   ],
   "source": [
    "#3.Write a Python program to reverse a word after accepting the input from the user. \n",
    "#Input word: AcadGild \n",
    " \n",
    "#Output: dilGdacA \n",
    "\n",
    "x = input('')\n",
    "print('reverse order: '+ (x)[::-1])"
   ]
  },
  {
   "cell_type": "code",
   "execution_count": 45,
   "metadata": {},
   "outputs": [
    {
     "name": "stdout",
     "output_type": "stream",
     "text": [
      "WE, THE PEOPLE OF INDIA,\n",
      " \t having solemnly resolved to constitute India into a SOVEREIGN,\"!\"\n",
      " \t\t SOCIALIST, SECULAR, DEMOCRATIC REPUBLIC \n",
      " \t \t  and to secure to all its citizens\n"
     ]
    }
   ],
   "source": [
    "  \n",
    " #4.Write a Python Program to print the given string in the format specified in the sample output.  WE, THE PEOPLE OF INDIA, having solemnly resolved to constitute India into a SOVEREIGN, SOCIALIST, SECULAR, DEMOCRATIC REPUBLIC and to secure to all its citizens \n",
    " \n",
    "print(\"\"\"WE, THE PEOPLE OF INDIA,\\n \\t having solemnly resolved to constitute India into a SOVEREIGN,\"!\"\\n \\t\\t SOCIALIST, SECULAR, DEMOCRATIC REPUBLIC \\n \\t \\t  and to secure to all its citizens\"\"\")\n"
   ]
  },
  {
   "cell_type": "code",
   "execution_count": null,
   "metadata": {},
   "outputs": [],
   "source": []
  }
 ],
 "metadata": {
  "kernelspec": {
   "display_name": "Python 3",
   "language": "python",
   "name": "python3"
  },
  "language_info": {
   "codemirror_mode": {
    "name": "ipython",
    "version": 3
   },
   "file_extension": ".py",
   "mimetype": "text/x-python",
   "name": "python",
   "nbconvert_exporter": "python",
   "pygments_lexer": "ipython3",
   "version": "3.7.3"
  }
 },
 "nbformat": 4,
 "nbformat_minor": 4
}
